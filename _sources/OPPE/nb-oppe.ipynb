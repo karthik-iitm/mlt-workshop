{
  "nbformat": 4,
  "nbformat_minor": 0,
  "metadata": {
    "colab": {
      "provenance": []
    },
    "kernelspec": {
      "name": "python3",
      "display_name": "Python 3"
    },
    "language_info": {
      "name": "python"
    }
  },
  "cells": [
    {
      "cell_type": "markdown",
      "source": [
        "# OPPE | T2-2024 | Solutions"
      ],
      "metadata": {
        "id": "H8rUiok_gecC"
      }
    },
    {
      "cell_type": "markdown",
      "source": [
        "## Instructions\n",
        "\n",
        "- There are $17$ NAT questions with marks distributed as $1 \\times 2 + 16 \\times 3 = 50$.\n",
        "- Answers to all questions are going to be integers.\n",
        "- Solve the problem in the colab and enter the answer in the portal.\n",
        "- Always run the data-cell before running the solution cell.\n",
        "- In questions where a data-matrix $\\mathbf{X}$ and label-vector $\\mathbf{y}$ are mentioned, the data-cell will have the corresponding entries as `X` and `y`.\n",
        "- All other vectors, matrices and scalars necessary for solving the problem will be given in the data-cell. They will have the same name as the ones mentioned in the problem statement.\n",
        "- `round` is a function that can be used to find the nearest integer. For example, `round(1.2) == 1` and `round(1.9) == 2`."
      ],
      "metadata": {
        "id": "t3Nnu-W2QRde"
      }
    },
    {
      "cell_type": "markdown",
      "source": [
        "## Notation\n",
        "\n",
        "- The data-matrix in all problems will be of shape $d \\times n$, where $d$ is the number of features and $n$ is the number of data-points.\n",
        "- If $\\mathbf{x} = (1, 2, 3)$ is a vector, $1, 2$ and $3$ are termed the components of $\\mathbf{x}$. The sum of the components of $\\mathbf{x}$ is $6$.\n",
        "- The norm of a vector $\\mathbf{x}$ is the Euclidean norm ($L_2$) by default. This is the only norm used in this exam.\n",
        "- All vectors will be represented as one-dimensional NumPy arrays. All matrices will be represented as two-dimensional NumPy arrays."
      ],
      "metadata": {
        "id": "OlT8_lBECghZ"
      }
    },
    {
      "cell_type": "code",
      "source": [
        "import numpy as np\n",
        "import matplotlib.pyplot as plt"
      ],
      "metadata": {
        "id": "G9xfb6EDlxIy"
      },
      "execution_count": null,
      "outputs": []
    },
    {
      "cell_type": "markdown",
      "source": [
        "## Question-1 [2 marks]\n",
        "\n",
        "$\\mathbf{X}$ is a data-matrix. If $\\boldsymbol{\\mu}$ is the mean of the data-points, find the norm of $\\boldsymbol{\\mu}$ and enter the nearest integer as your answer."
      ],
      "metadata": {
        "id": "tZ1jfgAunSbW"
      }
    },
    {
      "cell_type": "code",
      "source": [
        "# DATA CELL\n",
        "# DO NOT EDIT THIS\n",
        "rng = np.random.default_rng(seed = 1001)\n",
        "d = rng.integers(2, 10)\n",
        "n = rng.integers(40, 50)\n",
        "X = rng.integers(-5, 10, (d, n))"
      ],
      "metadata": {
        "id": "VZlO9j6Jnyww"
      },
      "execution_count": null,
      "outputs": []
    },
    {
      "cell_type": "code",
      "source": [
        "# Solution\n",
        "# Run the data cell before running this\n",
        "mu = X.mean(axis = 1)\n",
        "round(np.linalg.norm(mu))"
      ],
      "metadata": {
        "colab": {
          "base_uri": "https://localhost:8080/"
        },
        "id": "v2MDy_FHoLx-",
        "outputId": "61489f23-81a0-44d4-b7f9-bcd6a9afc8f5"
      },
      "execution_count": null,
      "outputs": [
        {
          "output_type": "execute_result",
          "data": {
            "text/plain": [
              "5"
            ]
          },
          "metadata": {},
          "execution_count": 88
        }
      ]
    },
    {
      "cell_type": "markdown",
      "source": [
        "## Question-2 [3 marks]\n",
        "\n",
        "$\\mathbf{X}$ is a data-matrix. Find the number of data-points whose norm is at least $k$."
      ],
      "metadata": {
        "id": "hlD-5BqllMj7"
      }
    },
    {
      "cell_type": "code",
      "execution_count": null,
      "metadata": {
        "id": "cHRVHV1xlCme"
      },
      "outputs": [],
      "source": [
        "# DATA CELL\n",
        "# DO NOT EDIT THIS\n",
        "rng = np.random.default_rng(seed = 1002)\n",
        "k = rng.integers(10, 20)\n",
        "d = rng.integers(5, 10)\n",
        "n = rng.integers(50, 100)\n",
        "X = rng.integers(-10, 10, (d, n))"
      ]
    },
    {
      "cell_type": "code",
      "source": [
        "# Solution\n",
        "# Run the data cell before running this\n",
        "np.where(\n",
        "    np.linalg.norm(X, axis = 0) >= k,\n",
        "    1,\n",
        "    0\n",
        ").sum()"
      ],
      "metadata": {
        "colab": {
          "base_uri": "https://localhost:8080/"
        },
        "id": "-N-NZ085mA-1",
        "outputId": "b449b47a-8d68-4e0d-9f1f-960b7b006417"
      },
      "execution_count": null,
      "outputs": [
        {
          "output_type": "execute_result",
          "data": {
            "text/plain": [
              "17"
            ]
          },
          "metadata": {},
          "execution_count": 90
        }
      ]
    },
    {
      "cell_type": "markdown",
      "source": [
        "## Question-3 [3 marks]\n",
        "\n",
        "Consider a matrix $\\mathbf{A}$ of shape $m \\times n$. Find the trace of the matrix $\\mathbf{A}^T \\mathbf{A}$, where the trace is the sum of the diagonal elements. Enter the nearest integer as the answer."
      ],
      "metadata": {
        "id": "RXl92AUGocO_"
      }
    },
    {
      "cell_type": "code",
      "source": [
        "# DATA CELL\n",
        "# DO NOT EDIT THIS\n",
        "rng = np.random.default_rng(seed = 1003)\n",
        "m, n = rng.integers(50, 100, 2)\n",
        "A = rng.integers(-1, 2, (m, n))"
      ],
      "metadata": {
        "id": "Jeit_vadozZx"
      },
      "execution_count": null,
      "outputs": []
    },
    {
      "cell_type": "code",
      "source": [
        "# Solution\n",
        "# Run the data cell before running this\n",
        "M = A.T @ A\n",
        "round(\n",
        "    sum(\n",
        "        [M[i][i] for i in range(M.shape[0])]\n",
        "    )\n",
        ")"
      ],
      "metadata": {
        "colab": {
          "base_uri": "https://localhost:8080/"
        },
        "id": "cwIolxUOpPy2",
        "outputId": "a1b695c2-3f0f-480e-a02d-715231c7c409"
      },
      "execution_count": null,
      "outputs": [
        {
          "output_type": "execute_result",
          "data": {
            "text/plain": [
              "2517"
            ]
          },
          "metadata": {},
          "execution_count": 92
        }
      ]
    },
    {
      "cell_type": "markdown",
      "source": [
        "## Question-4 [3 marks]\n",
        "\n",
        "Consider the curves:\n",
        "\n",
        "$$\n",
        "\\begin{aligned}\n",
        "y &= xe^{x}\\\\\\\\\n",
        "y &= \\sin(10 \\pi x)\n",
        "\\end{aligned}\n",
        "$$\n",
        "\n",
        "Find the number of points at which these two curves intersect in the interval $0.15 \\leqslant x \\leqslant 0.5$."
      ],
      "metadata": {
        "id": "WVaAy1i8piTh"
      }
    },
    {
      "cell_type": "code",
      "source": [
        "# Solution\n",
        "x = np.linspace(0.15, 0.5, 500)\n",
        "plt.plot(x, x * np.exp(x))\n",
        "plt.plot(x, np.sin(10 * np.pi * x))\n",
        "print(4)"
      ],
      "metadata": {
        "colab": {
          "base_uri": "https://localhost:8080/",
          "height": 447
        },
        "id": "L2SZuyuuptkx",
        "outputId": "f66891a3-d114-435f-b120-2c7c915de45b"
      },
      "execution_count": null,
      "outputs": [
        {
          "output_type": "stream",
          "name": "stdout",
          "text": [
            "4\n"
          ]
        },
        {
          "output_type": "display_data",
          "data": {
            "text/plain": [
              "<Figure size 640x480 with 1 Axes>"
            ],
            "image/png": "[encoded data removed]"
          },
          "metadata": {}
        }
      ]
    },
    {
      "cell_type": "markdown",
      "source": [
        "## Question-5 [3 marks]\n",
        "\n",
        "Consider the system of equations $\\mathbf{Ax} = \\mathbf{b}$, where:\n",
        "\n",
        "$$\n",
        "\\mathbf{A} = \\begin{bmatrix}\n",
        "1 & 2 & -1 & 3\\\\\n",
        "0 & 1 & 2 & -1\\\\\n",
        "1 & -2 & 3 & 1\\\\\n",
        "0 & -1 & -1 & 2\n",
        "\\end{bmatrix}, \\quad \\mathbf{b} = \\begin{bmatrix}\n",
        "1\\\\\n",
        "2\\\\\n",
        "-1\\\\\n",
        "0\n",
        "\\end{bmatrix}\n",
        "$$\n",
        "\n",
        "If $A$ is invertible, find the solution to this system, and enter the sum of the components of the solution as the answer. Your answer should be an integer."
      ],
      "metadata": {
        "id": "ZdSKq7Koq2hk"
      }
    },
    {
      "cell_type": "code",
      "source": [
        "# Solution\n",
        "A = np.array([\n",
        "    [1, 2, -1, 3],\n",
        "    [0, 1, 2, -1],\n",
        "    [1, -2, 3, 1],\n",
        "    [0, -1, -1, 2]\n",
        "])\n",
        "b = np.array([1, 2, -1, 0])\n",
        "assert np.linalg.matrix_rank(A) == A.shape[0]\n",
        "x = np.linalg.inv(A) @ b\n",
        "x.sum()"
      ],
      "metadata": {
        "colab": {
          "base_uri": "https://localhost:8080/"
        },
        "id": "8nPU1UrxrQK-",
        "outputId": "4ff082d7-bbcc-4b8b-caf0-eeb65ba31695"
      },
      "execution_count": null,
      "outputs": [
        {
          "output_type": "execute_result",
          "data": {
            "text/plain": [
              "0.0"
            ]
          },
          "metadata": {},
          "execution_count": 94
        }
      ]
    },
    {
      "cell_type": "markdown",
      "source": [
        "## Question-6 [3 marks]\n",
        "\n",
        "Let $\\mathbf{w}$ be the weight vector of a linear classifier trained on a dataset for a binary classification problem with data-matrix $\\mathbf{X}$ and label vector $\\mathbf{y}$. The predicted label for a data-point $\\mathbf{x}$ defined as:\n",
        "\n",
        "$$\n",
        "\\widehat{y} = \\begin{cases}\n",
        "1,& \\mathbf{w}^{T} \\mathbf{x} \\geqslant 0,\\\\\n",
        "0,& \\text{otherwise}\n",
        "\\end{cases}\n",
        "$$\n",
        "\n",
        "Find the predicted label vector and enter the sum of the components of the predicted label vector as the answer.\n",
        "\n"
      ],
      "metadata": {
        "id": "tPLSPiXEsEVn"
      }
    },
    {
      "cell_type": "code",
      "source": [
        "# DATA CELL\n",
        "# DO NOT EDIT THIS\n",
        "rng = np.random.default_rng(seed = 1006)\n",
        "d = rng.integers(3, 6)\n",
        "n = rng.integers(40, 60)\n",
        "if n % 2 != 0: n += 1\n",
        "X = rng.uniform(-2, 2, (d, n))\n",
        "y = np.concatenate(\n",
        "    (np.ones(n // 2),\n",
        "    np.zeros(n // 2))\n",
        ")\n",
        "w = rng.uniform(-5, 5, d)"
      ],
      "metadata": {
        "id": "4X-n4sXnDdeD"
      },
      "execution_count": null,
      "outputs": []
    },
    {
      "cell_type": "code",
      "source": [
        "# Solution\n",
        "# Run the data cell before running this\n",
        "y_hat = np.where(w @ X >= 0, 1, 0)\n",
        "y_hat.sum()"
      ],
      "metadata": {
        "colab": {
          "base_uri": "https://localhost:8080/"
        },
        "id": "EzRf97SlEdc2",
        "outputId": "4381c718-ff3a-4fa9-d9a0-5046aeb70472"
      },
      "execution_count": null,
      "outputs": [
        {
          "output_type": "execute_result",
          "data": {
            "text/plain": [
              "19"
            ]
          },
          "metadata": {},
          "execution_count": 96
        }
      ]
    },
    {
      "cell_type": "markdown",
      "source": [
        "## Common data for questions (7) to (10)\n",
        "\n",
        "Consider the following dataset for a binary classification problem. The data-matrix $\\mathbf{X}$ and the label vector $\\mathbf{y}$ are given below."
      ],
      "metadata": {
        "id": "7s-1nc3YFQq4"
      }
    },
    {
      "cell_type": "code",
      "source": [
        "# DATA CELL\n",
        "# DO NOT EDIT THIS\n",
        "X = np.array([\n",
        "    [2, 2, 2, 3, -2, -2, -5, -3],\n",
        "    [0, 1, -1, 0, 0, -3, 3, -1]\n",
        "])\n",
        "y = np.array(\n",
        "    [-1, -1, -1, -1, 1, 1, 1, 1]\n",
        ")"
      ],
      "metadata": {
        "id": "8WSXne4hFtNU"
      },
      "execution_count": null,
      "outputs": []
    },
    {
      "cell_type": "markdown",
      "source": [
        "## Question-7 [3 marks]\n",
        "\n",
        "Train a perceptron algorithm on this dataset. Cycle through the data-points from left to right, that is, $i = 0$ to $i = n - 1$. Make sure to strictly follow this cycle. If you make an update at data-point $j$, proceed to data-point $j + 1$ in the next iteration. Once you reach $n - 1$, cycle back to $0$.\n",
        "\n",
        "\n",
        "Find the sum of the components of the weight vector and enter the nearest integer as your answer."
      ],
      "metadata": {
        "id": "YzVNgtqKJsE_"
      }
    },
    {
      "cell_type": "code",
      "source": [
        "# Solution\n",
        "# Run the data cell before running this\n",
        "d, n = X.shape\n",
        "i = cycle = 0\n",
        "w = np.zeros(d)\n",
        "while cycle != n:\n",
        "    y_hat = 1 if X[:, i] @ w >= 1 else -1\n",
        "    if y_hat != y[i]:\n",
        "        w += X[:, i] * y[i]\n",
        "        cycle = 0\n",
        "    else:\n",
        "        cycle += 1\n",
        "    i += 1\n",
        "    if i == n:\n",
        "        i = 0\n",
        "w.sum()"
      ],
      "metadata": {
        "colab": {
          "base_uri": "https://localhost:8080/"
        },
        "id": "sxoAcslRJ-Iv",
        "outputId": "1b6d5f06-23c4-4d21-e119-5804eaae0261"
      },
      "execution_count": null,
      "outputs": [
        {
          "output_type": "execute_result",
          "data": {
            "text/plain": [
              "-2.0"
            ]
          },
          "metadata": {},
          "execution_count": 98
        }
      ]
    },
    {
      "cell_type": "markdown",
      "source": [
        "## Question-8 [3 marks]\n",
        "\n",
        "In the context of hard-margin SVM, find the optimal $\\boldsymbol{\\alpha}^{*}$ by solving the following dual optimization problem.\n",
        "\n",
        "$$\n",
        "\\begin{equation*}\n",
        "\\underset{\\boldsymbol{\\alpha} \\geqslant \\mathbf{0}}{\\max}\\ \\ \\  \\  \\boldsymbol{\\alpha}^{T}\\mathbf{1} -\\frac{1}{2}\\boldsymbol{\\alpha}^{T}\\mathbf{Y}^{T}\\mathbf{X}^{T}\\mathbf{XY} \\boldsymbol{\\alpha}\n",
        "\\end{equation*}\n",
        "$$\n",
        "\n",
        "If the sum of the components of $\\boldsymbol{\\alpha}^{*}$ is $s$, find $\\cfrac{1}{s}$ and enter the nearest integer to $\\cfrac{1}{s}$ as the answer."
      ],
      "metadata": {
        "id": "1GBq4yDPLLt-"
      }
    },
    {
      "cell_type": "code",
      "source": [
        "# Solution\n",
        "# Run the data cell before running this\n",
        "from scipy.optimize import minimize\n",
        "from scipy.optimize import Bounds\n",
        "\n",
        "Y = np.diag(y)\n",
        "def f(alpha):\n",
        "    return (\n",
        "        0.5 * alpha @ Y.T @ X.T @ X @ Y @ alpha\n",
        "        - alpha.sum()\n",
        "    )\n",
        "res = minimize(\n",
        "    f, x0 = np.zeros(n),\n",
        "    bounds = Bounds(0, np.inf)\n",
        ")\n",
        "alpha_star = res.x\n",
        "round(1 / alpha_star.sum())"
      ],
      "metadata": {
        "colab": {
          "base_uri": "https://localhost:8080/"
        },
        "id": "akscrU-gNktD",
        "outputId": "a5d9417c-69f0-4619-fb85-39f22e8259fe"
      },
      "execution_count": null,
      "outputs": [
        {
          "output_type": "execute_result",
          "data": {
            "text/plain": [
              "4"
            ]
          },
          "metadata": {},
          "execution_count": 99
        }
      ]
    },
    {
      "cell_type": "markdown",
      "source": [
        "## Question-9 [3 marks]\n",
        "\n",
        "Find the optimal weight vector $\\mathbf{w}^{*}$. If the sum of the components of $\\mathbf{w}^{*}$ is $s$, find $\\cfrac{1}{s}$ and enter the nearest integer to $\\cfrac{1}{s}$ as the answer."
      ],
      "metadata": {
        "id": "BwXCnOmfPGJO"
      }
    },
    {
      "cell_type": "code",
      "source": [
        "# Solution\n",
        "w_star = X @ Y @ alpha_star\n",
        "round(1 / w_star.sum())"
      ],
      "metadata": {
        "colab": {
          "base_uri": "https://localhost:8080/"
        },
        "id": "6rIsgdJHO7-f",
        "outputId": "c8156e78-f6e7-43d8-aab4-e5ed1032bff0"
      },
      "execution_count": null,
      "outputs": [
        {
          "output_type": "execute_result",
          "data": {
            "text/plain": [
              "-2"
            ]
          },
          "metadata": {},
          "execution_count": 100
        }
      ]
    },
    {
      "cell_type": "markdown",
      "source": [
        "## Question-10 [3 marks]\n",
        "\n",
        "Find the number of support vectors."
      ],
      "metadata": {
        "id": "KuQwLBPtPnsq"
      }
    },
    {
      "cell_type": "code",
      "source": [
        "# Solution\n",
        "(alpha_star > 0).sum()"
      ],
      "metadata": {
        "colab": {
          "base_uri": "https://localhost:8080/"
        },
        "id": "USTjEFyYPqxG",
        "outputId": "9f840777-1c5c-43a6-d95b-489f655b0597"
      },
      "execution_count": null,
      "outputs": [
        {
          "output_type": "execute_result",
          "data": {
            "text/plain": [
              "5"
            ]
          },
          "metadata": {},
          "execution_count": 101
        }
      ]
    },
    {
      "cell_type": "markdown",
      "source": [
        "## Common data for questions (11) and (12)\n",
        "\n",
        "Consider a data-matrix $\\mathbf{X}$. Mean center it and perform linear PCA."
      ],
      "metadata": {
        "id": "UMtCcCP8QfUz"
      }
    },
    {
      "cell_type": "code",
      "source": [
        "# DATA CELL\n",
        "# DO NOT EDIT THIS\n",
        "X = np.array([\n",
        "    [7, 5, -6, -11, 14.4, -2.8],\n",
        "    [10.5, 7.5, -9, -16.5, 21.6, -4.2],\n",
        "    [21, 15, -18, -33, 43.2, -8.4]\n",
        "]).astype(np.float64)"
      ],
      "metadata": {
        "id": "mt7Hrow9vJzH"
      },
      "execution_count": null,
      "outputs": []
    },
    {
      "cell_type": "code",
      "source": [
        "# Solution\n",
        "# Run the data cell before running this\n",
        "d, n = X.shape\n",
        "X -= X.mean(axis = 1).reshape(d, 1)\n",
        "C = X @ X.T / n\n",
        "eigval, eigvec = np.linalg.eigh(C)\n",
        "var = np.flip(eigval)\n",
        "pcs = np.flip(eigvec, axis = 1)"
      ],
      "metadata": {
        "id": "ZB5kUNagx_kz"
      },
      "execution_count": null,
      "outputs": []
    },
    {
      "cell_type": "markdown",
      "source": [
        "## Question-11 [3 marks]\n",
        "\n",
        "If the first PC is $\\mathbf{w}_1$, let the sum of the components of $\\mathbf{w}_1$ be $a$. Find the absolute value of $7a$ and enter the nearest integer as your answer."
      ],
      "metadata": {
        "id": "Tgw2B-EfwL9b"
      }
    },
    {
      "cell_type": "code",
      "source": [
        "# Solution\n",
        "round(np.abs(pcs[:, 0].sum() * 7))"
      ],
      "metadata": {
        "colab": {
          "base_uri": "https://localhost:8080/"
        },
        "id": "QI427kObwVdW",
        "outputId": "54616ab4-2698-47d4-b57b-ec9a9bf5940d"
      },
      "execution_count": null,
      "outputs": [
        {
          "output_type": "execute_result",
          "data": {
            "text/plain": [
              "11"
            ]
          },
          "metadata": {},
          "execution_count": 104
        }
      ]
    },
    {
      "cell_type": "markdown",
      "source": [
        "## Question-12 [3 marks]\n",
        "\n",
        "Find the variance along the first PC. Enter the nearest integer as your answer."
      ],
      "metadata": {
        "id": "p1DduPLix1An"
      }
    },
    {
      "cell_type": "code",
      "source": [
        "# Solution\n",
        "round(var[0])"
      ],
      "metadata": {
        "colab": {
          "base_uri": "https://localhost:8080/"
        },
        "id": "_EpZ6ymUx72B",
        "outputId": "bbc91816-328f-4807-db8f-eb3d07fd4d9b"
      },
      "execution_count": null,
      "outputs": [
        {
          "output_type": "execute_result",
          "data": {
            "text/plain": [
              "896"
            ]
          },
          "metadata": {},
          "execution_count": 105
        }
      ]
    },
    {
      "cell_type": "markdown",
      "source": [
        "## Question-13 [3 marks]\n",
        "\n",
        "Find the sum of the variances along the second and third PC. Enter the nearest integer as your answer."
      ],
      "metadata": {
        "id": "820TD3T2yU6u"
      }
    },
    {
      "cell_type": "code",
      "source": [
        "# Solution\n",
        "round(var[1:].sum())"
      ],
      "metadata": {
        "colab": {
          "base_uri": "https://localhost:8080/"
        },
        "id": "xHDljAql3YIW",
        "outputId": "504074e0-a9ea-45e2-f780-55d7be0584ca"
      },
      "execution_count": null,
      "outputs": [
        {
          "output_type": "execute_result",
          "data": {
            "text/plain": [
              "0"
            ]
          },
          "metadata": {},
          "execution_count": 106
        }
      ]
    },
    {
      "cell_type": "markdown",
      "source": [
        "## Common data for questions (14) to (16)\n",
        "\n",
        "Consider a dataset $\\mathbf{X}$ for a clustering problem. Start with the initial means as $\\boldsymbol{\\mu}_1 = (2, 3, 5)$ and $\\boldsymbol{\\mu}_2 = (-3, -5, -7)$ and run K-means with $k = 2$."
      ],
      "metadata": {
        "id": "ChxnTNlDydTd"
      }
    },
    {
      "cell_type": "code",
      "source": [
        "# DATA CELL\n",
        "# DO NOT EDIT THIS\n",
        "X = np.array([\n",
        "    [-8.2, 3.2, -5.1, 4., -7, 8.1, -2],\n",
        "    [-10.1, 4.1, -3.3, 2., -5, 6.2, -5],\n",
        "    [-3.4, 4.9, -3, 2., -5, 6.5, -5.3]\n",
        "])"
      ],
      "metadata": {
        "id": "WvexSrlzz20i"
      },
      "execution_count": null,
      "outputs": []
    },
    {
      "cell_type": "code",
      "source": [
        "# Solution\n",
        "mus = np.array([\n",
        "    [2., -3.],\n",
        "    [3., -5.],\n",
        "    [5., -7.]\n",
        "])\n",
        "d, n = X.shape\n",
        "\n",
        "z_prev = np.ones(n)\n",
        "z = np.zeros(n)\n",
        "k = 2\n",
        "while not np.array_equal(z_prev, z):\n",
        "    z_prev = z.copy()\n",
        "    for i in range(n):\n",
        "        dsq = (mus - X[:, i].reshape(d, 1)) ** 2\n",
        "        z[i] = np.argmin(dsq.sum(axis = 0))\n",
        "\n",
        "    for j in range(k):\n",
        "        if np.any(z == j):\n",
        "            mus[:, j] = X[:, z == j].mean(axis = 1)\n",
        "mus"
      ],
      "metadata": {
        "colab": {
          "base_uri": "https://localhost:8080/"
        },
        "id": "mLXVo6S-0T8A",
        "outputId": "60a8b137-d06b-4bb6-cce8-1b7229623635"
      },
      "execution_count": null,
      "outputs": [
        {
          "output_type": "execute_result",
          "data": {
            "text/plain": [
              "array([[ 5.1       , -5.575     ],\n",
              "       [ 4.1       , -5.85      ],\n",
              "       [ 4.46666667, -4.175     ]])"
            ]
          },
          "metadata": {},
          "execution_count": 108
        }
      ]
    },
    {
      "cell_type": "markdown",
      "source": [
        "## Question-14 [3 marks]\n",
        "\n",
        "Find the norm of the final mean $\\boldsymbol{\\mu}_1$. Enter the nearest integer as your answer.\n",
        "\n"
      ],
      "metadata": {
        "id": "IghtGUgx0UhS"
      }
    },
    {
      "cell_type": "code",
      "source": [
        "# Solution\n",
        "round(np.linalg.norm(mus[:, 0]))"
      ],
      "metadata": {
        "colab": {
          "base_uri": "https://localhost:8080/"
        },
        "id": "Ii_9Pq-m7fLu",
        "outputId": "5d4f1c27-3113-4963-8dff-b354eeb6f597"
      },
      "execution_count": null,
      "outputs": [
        {
          "output_type": "execute_result",
          "data": {
            "text/plain": [
              "8"
            ]
          },
          "metadata": {},
          "execution_count": 109
        }
      ]
    },
    {
      "cell_type": "markdown",
      "source": [
        "## Question-15 [3 marks]\n",
        "\n",
        "Find the norm of the final mean $\\boldsymbol{\\mu}_2$. Enter the nearest integer as your answer.\n",
        "\n"
      ],
      "metadata": {
        "id": "qcdc2zqE7jZc"
      }
    },
    {
      "cell_type": "code",
      "source": [
        "round(np.linalg.norm(mus[:, 1]))"
      ],
      "metadata": {
        "colab": {
          "base_uri": "https://localhost:8080/"
        },
        "id": "Zo7Z9GZX7mTY",
        "outputId": "a343fd9d-c8e7-4cc7-eb79-b1625b636f39"
      },
      "execution_count": null,
      "outputs": [
        {
          "output_type": "execute_result",
          "data": {
            "text/plain": [
              "9"
            ]
          },
          "metadata": {},
          "execution_count": 110
        }
      ]
    },
    {
      "cell_type": "markdown",
      "source": [
        "## Question-16 [3 marks]\n",
        "\n",
        "Find the cluster to which the data-point $(0, 1, 2)$ belongs. Enter $1$ if it is closer to $\\boldsymbol{\\mu}_1$ than $\\boldsymbol{\\mu}_2$ and $2$ otherwise."
      ],
      "metadata": {
        "id": "tRYQF6D272ul"
      }
    },
    {
      "cell_type": "code",
      "source": [
        "x = np.array([0, 1, 2])\n",
        "dsq = (mus - x.reshape(d, 1))  ** 2\n",
        "np.argmin(dsq.sum(axis = 0)) + 1"
      ],
      "metadata": {
        "colab": {
          "base_uri": "https://localhost:8080/"
        },
        "id": "TiPBhf7b8Asz",
        "outputId": "b6802851-68a4-4cfc-8f20-e233d169e83e"
      },
      "execution_count": null,
      "outputs": [
        {
          "output_type": "execute_result",
          "data": {
            "text/plain": [
              "1"
            ]
          },
          "metadata": {},
          "execution_count": 111
        }
      ]
    },
    {
      "cell_type": "markdown",
      "source": [
        "## Question-17 [3 marks]\n",
        "\n",
        "Fit a linear regression model on the dataset $(\\mathbf{X}, \\mathbf{y})$ and find the optimal weight vector $\\mathbf{w}^{*}$ using the normal equations. Enter the nearest integer to the sum of the components of $\\mathbf{w}^{*}$ as the answer."
      ],
      "metadata": {
        "id": "MDHEC5gb8bbQ"
      }
    },
    {
      "cell_type": "code",
      "source": [
        "# DATA CELL\n",
        "# DO NOT EDIT THIS\n",
        "X = np.array([\n",
        "    [1., -1., 3., -2., 1.],\n",
        "    [0., -2., 1., 0., 3.],\n",
        "    [-2., 1., 0., 1., 2.],\n",
        "    [1., -2., 3., -1., 4.]\n",
        "])\n",
        "y = np.array(\n",
        "    [3.1, 4.9, -2.5, 10.3, -4.2]\n",
        ")"
      ],
      "metadata": {
        "id": "zKbO_5Mp8xUA"
      },
      "execution_count": null,
      "outputs": []
    },
    {
      "cell_type": "code",
      "source": [
        "d, n = X.shape\n",
        "w = np.linalg.pinv(X.T) @ y\n",
        "round(w.sum())"
      ],
      "metadata": {
        "colab": {
          "base_uri": "https://localhost:8080/"
        },
        "id": "SiOulRYgA8LX",
        "outputId": "be260a17-a2b8-4880-e59b-006ab75cbae3"
      },
      "execution_count": null,
      "outputs": [
        {
          "output_type": "execute_result",
          "data": {
            "text/plain": [
              "-9"
            ]
          },
          "metadata": {},
          "execution_count": 113
        }
      ]
    }
  ]
}