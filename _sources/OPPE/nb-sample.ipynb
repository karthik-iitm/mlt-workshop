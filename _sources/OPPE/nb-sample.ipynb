{
  "nbformat": 4,
  "nbformat_minor": 0,
  "metadata": {
    "colab": {
      "provenance": []
    },
    "kernelspec": {
      "name": "python3",
      "display_name": "Python 3"
    },
    "language_info": {
      "name": "python"
    }
  },
  "cells": [
    {
      "cell_type": "markdown",
      "source": [
        "# MLT | OPPE | Sample Questions"
      ],
      "metadata": {
        "id": "aqo7Ij1GfnIg"
      }
    },
    {
      "cell_type": "markdown",
      "source": [
        "## Instructions\n",
        "\n",
        "- The duration of the exam is $2$ hours.\n",
        "- There are $17$ questions in this OPPE.\n",
        "- $16$ of them are NAT and $1$ is MCQ. The MCQ question is question-(5).\n",
        "- You have to read the question in colab, enter the solution code in the colab and then enter the answer in the portal.\n",
        "- For most cells, the data is given in a cell called the **DATA CELL**. You have to run the data cell first before running the solution cell. Do not edit the data-cell at any cost.\n",
        "- After completing the exam you will have to do two things:\n",
        "  - Click the submit button on the portal. If you do not submit on the portal, you will get zero marks.\n",
        "  - Upload the colab as a `.ipynb` file using the form that is provided. If you do not upload the file, you will get zero marks.\n",
        "\n",
        "- Make sure that you run all the cells before the current cell you are working with. Then run the current cell. This can be done using Ctr + F8. Just running the current cell repeatedly might cause a problem. Ctr + F8 runs all the cells starting from the first one in sequence until the current cell. If this doesn't work for you, click on Runtime in the toolbar and click Run before.\n",
        "\n",
        "- Note that some questions have random numbers generated with specific seed values. So, it is important that you run the cells in the sequence in which they are presented. For such questions, you will find the following message at the end of the cell:\n",
        "\n",
        "```\n",
        "# RUN THE DATA CELL BEFORE RUNNING THE SOLUTION CELL\n",
        "```"
      ],
      "metadata": {
        "id": "eKq5KpKIGxnR"
      }
    },
    {
      "cell_type": "code",
      "execution_count": null,
      "metadata": {
        "id": "O_R1oaEi03ur"
      },
      "outputs": [],
      "source": [
        "# RUN THIS CELL WITHOUT FAIL\n",
        "# ONLY THEN PROCEED TO THE QUESTIONS\n",
        "import numpy as np\n",
        "import matplotlib.pyplot as plt"
      ]
    },
    {
      "cell_type": "markdown",
      "source": [
        "## Question-1\n",
        "\n",
        "The matrix `M` is of shape `(m, n)`. Enter $3m - 2n$ as your answer.\n",
        "\n",
        "<hr>\n",
        "\n",
        "The variable `M` is defined in the cell given below."
      ],
      "metadata": {
        "id": "K8zM10Ih09ig"
      }
    },
    {
      "cell_type": "code",
      "source": [
        "# DATA CELL\n",
        "# DO NOT EDIT THIS CELL\n",
        "rng = np.random.default_rng(seed = 1001)\n",
        "m, n, k = rng.integers(100, 1000, 3)\n",
        "A = rng.integers(0, 5, (m, n))\n",
        "B = rng.integers(0, 5, (n, k))\n",
        "M = A @ B"
      ],
      "metadata": {
        "id": "M3x08Dc-1On6"
      },
      "execution_count": null,
      "outputs": []
    },
    {
      "cell_type": "code",
      "source": [
        "# SOLUTION\n",
        "# RUN THE DATA CELL BEFORE RUNNING THE SOLUTION CELL"
      ],
      "metadata": {
        "id": "Mc7euy4Q1r0K"
      },
      "execution_count": null,
      "outputs": []
    },
    {
      "cell_type": "markdown",
      "source": [
        "## Question-2\n",
        "\n",
        "Matrix `M` is of shape `(n, n)`. Find the dot product of the $230^{th}$ row of $M$ and the $158^{th}$ column of $M$. Your answer should be an integer.\n",
        "\n",
        "<hr>\n",
        "\n",
        "**NOTE**: A note regarding the terminology. While talking about rows and columns, we are counting from one and not zero. For example, consider the matrix $M$:\n",
        "\n",
        "$$\n",
        "M = \\begin{bmatrix}\n",
        "1 & 2 & 3\\\\\n",
        "4 & 5 & 6\\\\\n",
        "7 & 8 & 9\n",
        "\\end{bmatrix}\n",
        "$$\n",
        "\n",
        "The first row of $M$ is $[1, 2, 3]$. The second column of $M$ is $[2, 5, 8]$.\n",
        "\n",
        "<hr>\n",
        "\n",
        "The variable `M` is defined in the cell given below."
      ],
      "metadata": {
        "id": "ZLFOBeZZ2hqV"
      }
    },
    {
      "cell_type": "code",
      "source": [
        "# DATA CELL\n",
        "# DO NOT EDIT THIS CELL\n",
        "rng = np.random.default_rng(seed = 1001)\n",
        "n = rng.integers(100, 300)\n",
        "M = rng.integers(0, 5, (n, n))"
      ],
      "metadata": {
        "id": "2AhYM7222_IP"
      },
      "execution_count": null,
      "outputs": []
    },
    {
      "cell_type": "code",
      "source": [
        "# SOLUTION\n",
        "# RUN THE DATA CELL BEFORE RUNNING THE SOLUTION CELL"
      ],
      "metadata": {
        "id": "YzSwMaA-3Xqx"
      },
      "execution_count": null,
      "outputs": []
    },
    {
      "cell_type": "markdown",
      "source": [
        "## Question-3\n",
        "\n",
        "Solve for $x$ in the following equation using `matplotlib`:\n",
        "\n",
        "$$\n",
        "x \\sin x = e^x, \\quad -1 \\leq x \\leq 0\n",
        "$$\n",
        "\n",
        "There is exactly one solution for the given range of $x$. Enter your answer correct to three decimal places."
      ],
      "metadata": {
        "id": "0yCMO30V4p39"
      }
    },
    {
      "cell_type": "code",
      "source": [
        "# Solution"
      ],
      "metadata": {
        "id": "9vPS1O4J42va"
      },
      "execution_count": null,
      "outputs": []
    },
    {
      "cell_type": "markdown",
      "source": [
        "## Question-4\n",
        "\n",
        "A perceptron model has weight vector `w` of shape `(d, )`. Find the label of a test data-point `x_test`. Recall that labels lie in $\\{-1, 1\\}$.\n",
        "\n",
        "<hr>\n",
        "\n",
        "The variables `w` and `x_test` are defined in the cell given below."
      ],
      "metadata": {
        "id": "ZqNsLu3367AP"
      }
    },
    {
      "cell_type": "code",
      "source": [
        "# DATA CELL\n",
        "# DO NOT EDIT THIS CELL\n",
        "rng = np.random.default_rng(seed = 1003)\n",
        "d = rng.integers(100, 200)\n",
        "w = rng.uniform(0, 10, d)\n",
        "x_test = rng.uniform(-10, 10, d)"
      ],
      "metadata": {
        "id": "CTMAhW1c8ISE"
      },
      "execution_count": null,
      "outputs": []
    },
    {
      "cell_type": "code",
      "source": [
        "# SOLUTION\n",
        "# RUN THE DATA CELL BEFORE RUNNING THE SOLUTION CELL"
      ],
      "metadata": {
        "id": "s3Vx6qsD8pkK"
      },
      "execution_count": null,
      "outputs": []
    },
    {
      "cell_type": "markdown",
      "source": [
        "## Question-5\n",
        "\n",
        "`(X_1, y_1)` and `(X_2, y_2)` are two datasets. The data matrix for each dataset is of shape `(d, n)`. Each label vector has shape `(n, )`. Use a perceptron to determine if the datasets are linearly separable or not.\n",
        "\n",
        "<hr>\n",
        "\n",
        "**NOTE**: If the dataset is linearly separable, your code should terminate within $20$ complete passes (epochs) over the entire dataset. If it is taking more than that, it could mean one of two things:\n",
        "\n",
        "- your code is wrong\n",
        "- the dataset is not linearly separable\n",
        "\n",
        "<hr>\n",
        "\n",
        "The variables `X_1, y_1, X_2` and `y_2` are defined in the cell given below."
      ],
      "metadata": {
        "id": "karlbmo9Mnr3"
      }
    },
    {
      "cell_type": "code",
      "source": [
        "# DATA CELL\n",
        "# DO NOT EDIT THIS CELL\n",
        "# Dataset-1\n",
        "X_1 = np.array([[-1, -1,  1,  2, -2, -1,  1, -2,  2, -2],\n",
        "                [ 1,  0,  1, -2,  0,  1,  2,  2,  1,  0],\n",
        "                [ 2,  2, -2,  0,  2,  2, -2,  2, -2,  2],\n",
        "                [-1,  2,  2, -1,  0,  0, -1,  2,  2,  0]])\n",
        "y_1 = np.array([ 1,  1, -1, -1,  1,  1, -1,  1, -1,  1])\n",
        "# Dataset-2\n",
        "X_2 = np.array([[-1, -2, -2, -2,  0,  0,  0,  2,  0,  2],\n",
        "                [-2, -1, -1, -1,  1,  0, -1, -2, -2,  1],\n",
        "                [ 0,  0,  1, -1,  2, -1,  1, -1, -1, -1],\n",
        "                [-2, -2,  1,  1, -2,  0,  0,  1,  0, -1]])\n",
        "y_2 = np.array([-1, -1,  1, -1,  1, -1,  1,  1, 1, -1])"
      ],
      "metadata": {
        "id": "vgs6OwiJMnsf"
      },
      "execution_count": null,
      "outputs": []
    },
    {
      "cell_type": "markdown",
      "source": [
        "## Common Data for questions (6) to (9)\n",
        "\n",
        "Consider a dataset `X` of shape `(d, n)` for a clustering problem with three clusters. The initial cluster centers are given as `c_1`, `c_2` and `c_3`. Each center is of shape `(d, )`. Run K-Means algorithm on this dataset until convergence. Follow the algorithm given below:\n",
        "\n",
        "- Initialize centers to `c_1`, `c_2`, `c_3`\n",
        "- Until convergence\n",
        "  - Compute cluster membership\n",
        "  - Recompute cluster centers\n",
        "\n",
        "`x_test` a test point of shape `(d, )`. Let `c_1_final, c_2_final, c_3_final` be the cluster centers after convergence.\n",
        "\n",
        "<hr>\n",
        "\n",
        "**NOTE**: The variables `X, c_1, c_2, c_3` and `x_test` are all given to you in the code cell given below."
      ],
      "metadata": {
        "id": "YsNue4sbI8sM"
      }
    },
    {
      "cell_type": "code",
      "source": [
        "# DATA CELL\n",
        "# DO NOT EDIT THIS CELL\n",
        "rng = np.random.default_rng(seed = 1009)\n",
        "n = rng.integers(24, 25)\n",
        "d = rng.integers(2, 3)\n",
        "cen = rng.integers(-10, 10, (3, d))\n",
        "cov = np.eye(d)\n",
        "X = np.zeros((d, n))\n",
        "for i in range(3):\n",
        "    X[:, n // 3 * i: n // 3 * (i + 1)] = rng.multivariate_normal(cen[i], cov, n // 3).T\n",
        "x_test = rng.integers(-2, 4, (d, ))\n",
        "c_1, c_2, c_3 = (cen[0] + rng.uniform(-2, 2, (d, )),\n",
        "                 cen[1] + rng.uniform(-2, 2, (d, )),\n",
        "                 cen[2] + rng.uniform(-2, 2, (d, )))"
      ],
      "metadata": {
        "id": "ObBPw9zzLuwI"
      },
      "execution_count": null,
      "outputs": []
    },
    {
      "cell_type": "code",
      "source": [
        "# SOLUTION\n",
        "# RUN THE DATA CELL BEFORE RUNNING THE SOLUTION CELL"
      ],
      "metadata": {
        "id": "kuDBCETVW2Vt"
      },
      "execution_count": null,
      "outputs": []
    },
    {
      "cell_type": "markdown",
      "source": [
        "## Question-6\n",
        "\n",
        "Enter the Euclidean norm of `c_1_final` as your answer correct to two decimal places. You can use `np.linalg.norm(c_1_final)`."
      ],
      "metadata": {
        "id": "OEaQ8UNUKp8Q"
      }
    },
    {
      "cell_type": "code",
      "source": [
        "# SOLUTION\n",
        "# RUN THE DATA CELL BEFORE RUNNING THE SOLUTION CELL"
      ],
      "metadata": {
        "id": "kMGlE8LFhi5c"
      },
      "execution_count": null,
      "outputs": []
    },
    {
      "cell_type": "markdown",
      "source": [
        "## Question-7\n",
        "\n",
        "Enter the Euclidean norm of `c_2_final` as your answer correct to two decimal places. You can use `np.linalg.norm(c_2_final)`."
      ],
      "metadata": {
        "id": "pnXTYR3JK-Am"
      }
    },
    {
      "cell_type": "code",
      "source": [
        "# SOLUTION\n",
        "# RUN THE DATA CELL BEFORE RUNNING THE SOLUTION CELL"
      ],
      "metadata": {
        "id": "Qv2dAWA0ekeN"
      },
      "execution_count": null,
      "outputs": []
    },
    {
      "cell_type": "markdown",
      "source": [
        "## Question-8\n",
        "\n",
        "Enter the Euclidean norm of `c_3_final` as your answer correct to two decimal places. You can use `np.linalg.norm(c_3_final)`."
      ],
      "metadata": {
        "id": "PAhLOFjNLAfg"
      }
    },
    {
      "cell_type": "code",
      "source": [
        "# SOLUTION\n",
        "# RUN THE DATA CELL BEFORE RUNNING THE SOLUTION CELL"
      ],
      "metadata": {
        "id": "6jBP629wemjA"
      },
      "execution_count": null,
      "outputs": []
    },
    {
      "cell_type": "markdown",
      "source": [
        "## Question-9\n",
        "\n",
        "To which cluster does the point `x_test` belong? Enter 1, 2 or 3 as your answer."
      ],
      "metadata": {
        "id": "FMCFpHybLJeQ"
      }
    },
    {
      "cell_type": "code",
      "source": [
        "# SOLUTION\n",
        "# RUN THE DATA CELL BEFORE RUNNING THE SOLUTION CELL"
      ],
      "metadata": {
        "id": "IXU7XOpQeqC9"
      },
      "execution_count": null,
      "outputs": []
    },
    {
      "cell_type": "markdown",
      "source": [
        "## Common Data for questions (10) and (11)\n",
        "\n",
        "Consider a hard-margin SVM trained on a linearly separable dataset $(\\mathbf{X}, \\mathbf{y})$. The optimal weight vector obtaind is $\\mathbf{w}^{*}$:\n",
        "\n",
        "$$\n",
        "\\begin{aligned}\n",
        "\\mathbf{X} &= \\begin{bmatrix}\n",
        "2 & 2 & 0 & 1 & 1 & 0 & -1 & -2 & -3\\\\\n",
        "0 & -1 & -1 & 1 & 3 & 1 & -1 & 0 & 1\n",
        "\\end{bmatrix}\\\\\\\\\n",
        "\\mathbf{y} &= \\begin{bmatrix}\n",
        "-1 & -1 & -1 & -1 & 1 & 1 & 1 & 1 & 1\n",
        "\\end{bmatrix}^T\\\\\\\\\n",
        "\\mathbf{w}^{*} &= \\begin{bmatrix}\n",
        "-2 & 1\n",
        "\\end{bmatrix}^T\n",
        "\\end{aligned}\n",
        "$$\n",
        "\n",
        "$\\mathbf{X}$ has shape $(d, n)$, $\\mathbf{y}$ has shape $(n, )$ and $\\mathbf{w}^{*}$ has shape $(d, )$."
      ],
      "metadata": {
        "id": "rqnA3M7--KFX"
      }
    },
    {
      "cell_type": "markdown",
      "source": [
        "## Question-10\n",
        "\n",
        "Find the number of support vectors."
      ],
      "metadata": {
        "id": "a4HsT8dcfBmX"
      }
    },
    {
      "cell_type": "code",
      "source": [
        "# SOLUTION"
      ],
      "metadata": {
        "id": "qhEvsQ669mxb"
      },
      "execution_count": null,
      "outputs": []
    },
    {
      "cell_type": "markdown",
      "source": [
        "## Question-11\n",
        "\n",
        "Find the label of the test point $\\begin{bmatrix}2 & 1\\end{bmatrix}^T$. Your answer should be in the set $\\{1, -1\\}$."
      ],
      "metadata": {
        "id": "nsTBS-iV-OEd"
      }
    },
    {
      "cell_type": "code",
      "source": [
        "# SOLUTION"
      ],
      "metadata": {
        "id": "LuIcXbOY-gZg"
      },
      "execution_count": null,
      "outputs": []
    },
    {
      "cell_type": "markdown",
      "source": [
        "## Common Data for questions (12) to (17)\n",
        "\n",
        "Run the following cell to get the training and test dataset. The following variables are used in the cell:\n",
        "\n",
        "`X_train` = Training dataset\n",
        "\n",
        "`y_train` = label vector corresponding to training dataset\n",
        "\n",
        "`X_test` = Test dataset\n",
        "\n",
        "`y_test` = label vector corresponding to test dataset\n"
      ],
      "metadata": {
        "id": "o1Oq6QlkUTTC"
      }
    },
    {
      "cell_type": "code",
      "source": [
        "# DATA CELL\n",
        "# DO NOT EDIT THIS CELL\n",
        "X_train = np.array([\n",
        "    [1, 0, 1, -1, 2],\n",
        "    [2, 1, 0, -1, 2],\n",
        "    [0, 1, 2, 3, 1]\n",
        "])\n",
        "y_train = np.array([1, 2, 0, 3, 1])\n",
        "X_test = np.array([\n",
        "    [1, 0, 2, 1, 4],\n",
        "    [0, 1, 3, 1, 2],\n",
        "    [-1, 0, 3, 1, -1]\n",
        "])\n",
        "y_test = np.array([-1, 0, 2, 1, 2])"
      ],
      "metadata": {
        "id": "a6VWn4OEguZT"
      },
      "execution_count": null,
      "outputs": []
    },
    {
      "cell_type": "markdown",
      "source": [
        "## Question-12\n",
        "\n",
        "If we learn a linear regression model on the training dataset, how many weights need to be learned by the model?"
      ],
      "metadata": {
        "id": "U3QLu-bF9933"
      }
    },
    {
      "cell_type": "code",
      "source": [
        "# SOLUTION\n",
        "# RUN THE DATA CELL BEFORE RUNNING THE SOLUTION CELL"
      ],
      "metadata": {
        "id": "Ago1dfE0KL-1"
      },
      "execution_count": null,
      "outputs": []
    },
    {
      "cell_type": "markdown",
      "source": [
        "## Question-13\n",
        "\n",
        "If $\\mathbf{w}$ is the weight vector learnt using the least square linear regression model (normal equation method), what will be euclidean norm of $\\mathbf{w}$? Enter your answer correct to two decimal places."
      ],
      "metadata": {
        "id": "qKH_R4L4YbbU"
      }
    },
    {
      "cell_type": "code",
      "source": [
        "# SOLUTION"
      ],
      "metadata": {
        "id": "-H-k5nTk2KHt"
      },
      "execution_count": null,
      "outputs": []
    },
    {
      "cell_type": "markdown",
      "source": [
        "## Question-14\n",
        "\n",
        "Find the root mean square error on the training dataset using the model defined in question $13$.\n",
        "\n",
        "$$\n",
        " \\text{RMSE}  =  \\sqrt{\\dfrac{1}{n}\\sum\\limits_{i=1}^{n} (y_i- \\widehat{y}_i)^2}\n",
        "$$\n",
        "\n",
        "Enter your answer correct to three decimal places."
      ],
      "metadata": {
        "id": "e0_JnoyHBnAg"
      }
    },
    {
      "cell_type": "code",
      "source": [
        "# SOLUTION"
      ],
      "metadata": {
        "id": "wynxtiMfMsba"
      },
      "execution_count": null,
      "outputs": []
    },
    {
      "cell_type": "markdown",
      "source": [
        "## Question 15\n",
        "Find the root mean square error on the test dataset using the model defined in question $13$. Enter your answer correct to two decimal places.\n"
      ],
      "metadata": {
        "id": "x1qNOppgrD75"
      }
    },
    {
      "cell_type": "code",
      "source": [
        "# SOLUTION"
      ],
      "metadata": {
        "id": "Y8uYWEFx3Re3"
      },
      "execution_count": null,
      "outputs": []
    },
    {
      "cell_type": "markdown",
      "source": [
        "## Question 16\n",
        "\n",
        "Learn the ridge regression model on the training dataset defined in question $12$ for $\\lambda = 0.01, 0.1, 1,$ and $10$. Which value of $\\lambda$ gives the least training error?"
      ],
      "metadata": {
        "id": "5mPOd_JCyFZj"
      }
    },
    {
      "cell_type": "code",
      "source": [
        "# SOLUTION"
      ],
      "metadata": {
        "id": "w8sfoEK4mjH9"
      },
      "execution_count": null,
      "outputs": []
    },
    {
      "cell_type": "markdown",
      "source": [
        "## Question 17\n",
        "\n",
        "Learn the ridge regression model on the training dataset defined in question $12$ for $\\lambda = 0.01, 0.1, 1,$ and $10$. Which value of $\\lambda$ gives the least test error?"
      ],
      "metadata": {
        "id": "yF2wxSEIyV5Y"
      }
    },
    {
      "cell_type": "code",
      "source": [
        "# SOLUTION"
      ],
      "metadata": {
        "id": "rhxY-FJw2VOr"
      },
      "execution_count": null,
      "outputs": []
    }
  ]
}